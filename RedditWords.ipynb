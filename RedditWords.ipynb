{
 "cells": [
  {
   "cell_type": "markdown",
   "metadata": {},
   "source": [
    "# Reddit Word Usage Project"
   ]
  },
  {
   "cell_type": "markdown",
   "metadata": {},
   "source": [
    "## Introduction and Background\n",
    "\n",
    "Our group shares a common interest in video games, passing time on the web, and studying Computer Science. Whether we are busy programming or playing with friends, Reddit remains a constant in our workflow and procrastination. It is the one stop source for all things informational or entertaining: it allows us to look up the latest updates on our favorite video games, check the latest UCSD events, catch up on national and global news, or just look at gifs of cats.\n",
    "\n",
    "We coincidentally came across our dataset on Reddit but it alone didn't give much to work with. Thinking of relevant questions for this dataset led us to look for other datasets. When we came across the next dataset of common words, we wanted to know how they differ, and why. \n",
    "\n",
    "Knowing the differences can show clear indications of Reddit's dominant demographic. Understanding the source of our information helps us remember biases inherent in the posts we read on Reddit. For example, Time analyzed the top 500 most words used on Twitter, and tinyurl.com is the 11th most common word. However, Twitter's character limit has an enormous influence on the outcome of Time's analysis. Other biases include misinformation on Reddit, or hidden advertisements in posts, which brings up another interesting question: Which buzzwords appeal the most to Redditors.\n",
    "\n",
    "Reddit also conducts surveys of their own userbase so we have our estimates and factual analysis to compare with. That way we better understand if our methods and techniques return correct conclusions, so that they can be applied to different areas.\n",
    "\n",
    "### Research Question\n",
    "How does Reddit word usage differ from US English word usage? Given data about the Reddit demographic, what can we say about the vocabulary of the average Reddit user?\n",
    "\n",
    "### Hypothesis\n",
    "Given that [54% of Redditors](https://reddit.zendesk.com/hc/en-us/articles/205183225-Audience-and-Demographics) are from the United States, and that English is the primary language on Reddit, we hypothesize that Reddit word usage is rather similar to US English word usage.\n",
    "Given an [informal survey](http://imgur.com/gallery/cPzlB) of the Reddit demographic, we hypothesize that differences in word usage can be attributed to the predominantly younger male demographic."
   ]
  },
  {
   "cell_type": "code",
   "execution_count": 46,
   "metadata": {},
   "outputs": [],
   "source": [
    "# Imports -  Probably excessive on the imports but it is anything we could possibly use\n",
    "%matplotlib inline\n",
    "\n",
    "import pandas as pd\n",
    "import numpy as np\n",
    "import matplotlib.pyplot as plt\n",
    "import patsy\n",
    "import statsmodels.api as sm\n",
    "from scipy.stats import ttest_ind"
   ]
  },
  {
   "cell_type": "markdown",
   "metadata": {},
   "source": [
    "## Data Description\n",
    "\n",
    "For this project, we have two different sets of data. \n",
    "\n",
    "The first data set is a construct of the top most frequently used words from Reddit,\n",
    "as mined from over 3 billion comments. The user wanted to try to get a feel for the most frequently words used on Reddit, thus a sample of over 3 billion comments was used. A large enough sample would eventually start showing patterns of word frequency across multiple subreddits. We included this data set into our repository as \"reddit_words.csv\" and imported it as df_reddit.\n",
    "\n",
    "The \"reddit_words.csv\" contains 1 million entries, and 3 columns. The first column is the word itself, the second column is the frequency, and the third column is the percentage they occur at. The data is sorted by the second column, with the first index having the highest frequency, and the last index having the lowest frequency. There is no heading row for this sheet.\n",
    "\n",
    "The other data set is the list of the 10,000 most common English words in order of frequency, as determined by n-gram analysis of the Google's Trillion Word Corpus. We found it at this [GitHub Repo](https://github.com/first20hours/google-10000-english). We included this data set into our repository as \"google10k.csv\" and imported it as df_normal.\n",
    "\n",
    "The \"google10k.csv\" contains 10,000 entries, and 1 column. The first and only column is the word itself, and is ordered by frequency, with the first index having the highest frequency."
   ]
  },
  {
   "cell_type": "code",
   "execution_count": 2,
   "metadata": {
    "collapsed": true
   },
   "outputs": [],
   "source": [
    "# Load the two datasets we need into their own dataframes\n",
    "df_reddit = pd.read_csv(\"reddit_words.csv\", header=None)\n",
    "df_normal = pd.read_csv(\"google10k.csv\", header=None)"
   ]
  },
  {
   "cell_type": "code",
   "execution_count": 3,
   "metadata": {
    "collapsed": true
   },
   "outputs": [],
   "source": [
    "# Format the dataframe columns\n",
    "df_reddit.columns = ['word', 'freq', 'perc']\n",
    "df_normal.columns = ['word']"
   ]
  },
  {
   "cell_type": "markdown",
   "metadata": {},
   "source": [
    "## Data Cleaning/Pre-processing\n",
    "\n",
    "Our process of cleaning data is to remove irrelevant data so we can make comparisons between the two datasets with words that matter. There is also the obvious difference in size between the two data sets, with the Reddit data set containing low frequency words that do not exist in the English language. For example, typos, symbols, or the names of subreddits.\n",
    "\n",
    "Most of this section is pre-processing because the data sets we are utilizing has mostly been cleaned."
   ]
  },
  {
   "cell_type": "code",
   "execution_count": 4,
   "metadata": {
    "collapsed": true
   },
   "outputs": [],
   "source": [
    "# Remove the bottom half of the Reddit comments as they are trivial\n",
    "df_reddit = df_reddit.head(50000)"
   ]
  },
  {
   "cell_type": "markdown",
   "metadata": {},
   "source": [
    "To clean this data, we remove many of the Reddit words of very low frequency because we are using it to compare to a list that is a hundred times smaller. To be safe, we only removed the bottom half as many of those could be usernames or typo'd words. A little later on, we also remove the frequency and percent columns as they are not needed for our analysis."
   ]
  },
  {
   "cell_type": "code",
   "execution_count": 5,
   "metadata": {
    "collapsed": true
   },
   "outputs": [],
   "source": [
    "# Remove numbers from df_reddit\n",
    "df_reddit = df_reddit[df_reddit['word'].str.isdigit() == False]\n",
    "\n",
    "# Remove contractions from df_reddit\n",
    "df_reddit = df_reddit[df_reddit['word'].str.contains('\\'') == False]"
   ]
  },
  {
   "cell_type": "markdown",
   "metadata": {},
   "source": [
    "We noticed df_reddit contains numbers like \"3\" and contractions like \"it's\", while df_normal didn't. Because we're comparing word usage, we felt like contractions and numbers in digit format was irrelevant to our analyses. These values could potentially throw off our visualizations."
   ]
  },
  {
   "cell_type": "code",
   "execution_count": 6,
   "metadata": {
    "collapsed": true
   },
   "outputs": [],
   "source": [
    "# Save a copy of cleaned df_reddit for another data set, because we want the frequency column\n",
    "df_outside = df_reddit.head(10000)\n",
    "\n",
    "# Drop the two columns of the Reddit words as we have no use for frequency or percentage in this analysis.\n",
    "df_reddit = df_reddit.drop(\"freq\", 1)\n",
    "df_reddit = df_reddit.drop(\"perc\", 1)"
   ]
  },
  {
   "cell_type": "code",
   "execution_count": 7,
   "metadata": {
    "collapsed": true,
    "scrolled": true
   },
   "outputs": [],
   "source": [
    "# Make variables to perform loop operations\n",
    "redIndex = 0\n",
    "diffIndex = 0\n",
    "diffList = []\n",
    "outList = []\n",
    "noDiffList = []\n",
    "\n",
    "# Loop through the top 1000 words and find their relative indices in the Reddit list\n",
    "for indexi, row in df_normal.itertuples():\n",
    "    # Get the index of the word in the reddit dataframe and relate it to indexi\n",
    "    currCol = df_reddit[df_reddit['word'] == row]\n",
    "    if currCol.empty:\n",
    "        outList.append(row)\n",
    "    else:\n",
    "        redIndex = df_reddit[df_reddit['word'] == row].index[0]\n",
    "        diffIndex = (redIndex - indexi)\n",
    "        diffList.append(diffIndex)\n",
    "        \n",
    "        if diffIndex == 0:\n",
    "            noDiffList.append(row)"
   ]
  },
  {
   "cell_type": "markdown",
   "metadata": {},
   "source": [
    "To analyze the data we will find the difference in indices between words in the two sets and remove any outliers, as well as restrict the ranges on our visualizations. The difference in indices represents the different in popularity for a given word that is in both sets. We print out a sample below:"
   ]
  },
  {
   "cell_type": "code",
   "execution_count": 8,
   "metadata": {},
   "outputs": [
    {
     "name": "stdout",
     "output_type": "stream",
     "text": [
      "    difference\n",
      "0            0\n",
      "1            4\n",
      "2            2\n",
      "3           -2\n",
      "4           -2\n",
      "5            5\n",
      "6            5\n",
      "7            1\n",
      "8            5\n",
      "9            0\n",
      "10          52\n",
      "11           1\n",
      "12           5\n",
      "13         -10\n",
      "14          -8\n"
     ]
    }
   ],
   "source": [
    "# Throw the list we got of differences into a dataframe\n",
    "df_diff = pd.DataFrame(diffList)\n",
    "df_diff.columns = ['difference']\n",
    "print(df_diff.head(15))"
   ]
  },
  {
   "cell_type": "code",
   "execution_count": 9,
   "metadata": {
    "collapsed": true
   },
   "outputs": [],
   "source": [
    "# Remove extreme outliers\n",
    "df_lessOut = df_diff[df_diff.difference < 10000]"
   ]
  },
  {
   "cell_type": "markdown",
   "metadata": {},
   "source": [
    "The previous pre-processing gives us data of the words in both of the sets. Now, we want to obtain some data in df_reddit that is not inside df_normal. Due to the sheer size of df_reddit, we only want to examine the top 10,000 words as well."
   ]
  },
  {
   "cell_type": "code",
   "execution_count": 10,
   "metadata": {
    "collapsed": true
   },
   "outputs": [],
   "source": [
    "# We previously had a cleaned version of df_reddit, called df_outside that only includes top 10,000\n",
    "df_outside = df_outside.drop(\"perc\", 1)\n",
    "\n",
    "# Remove words that belong in both sets from df_outside\n",
    "for w in df_normal['word']:\n",
    "    df_outside = df_outside[df_outside.word != w]"
   ]
  },
  {
   "cell_type": "markdown",
   "metadata": {},
   "source": [
    "In the above code, we took out everything from df_outside that was in df_normal. Remember that df_outside is a shorter version of df_reddit, with the frequency column retained."
   ]
  },
  {
   "cell_type": "markdown",
   "metadata": {},
   "source": [
    "## Data Visualization\n",
    "\n",
    "From our cleaning and pre-processing section, we have several data sets that are prepared for visualization.\n",
    "The first section concerns words mutually included in the sets, and how we visualize popularity and similarity.\n",
    "The second section conerns words uniquely in Reddit."
   ]
  },
  {
   "cell_type": "code",
   "execution_count": 11,
   "metadata": {},
   "outputs": [
    {
     "data": {
      "image/png": "[encoded data removed]",
      "text/plain": [
       "<matplotlib.figure.Figure at 0x1b89662bb70>"
      ]
     },
     "metadata": {},
     "output_type": "display_data"
    }
   ],
   "source": [
    "# Represent data by a histogram\n",
    "df_diff['difference'].hist(bins=50, range=(-10000, 30000))\n",
    "\n",
    "plot1 = plt.gcf()"
   ]
  },
  {
   "cell_type": "code",
   "execution_count": 12,
   "metadata": {},
   "outputs": [
    {
     "data": {
      "text/html": [
       "<div>\n",
       "<style>\n",
       "    .dataframe thead tr:only-child th {\n",
       "        text-align: right;\n",
       "    }\n",
       "\n",
       "    .dataframe thead th {\n",
       "        text-align: left;\n",
       "    }\n",
       "\n",
       "    .dataframe tbody tr th {\n",
       "        vertical-align: top;\n",
       "    }\n",
       "</style>\n",
       "<table border=\"1\" class=\"dataframe\">\n",
       "  <thead>\n",
       "    <tr style=\"text-align: right;\">\n",
       "      <th></th>\n",
       "      <th>difference</th>\n",
       "    </tr>\n",
       "  </thead>\n",
       "  <tbody>\n",
       "    <tr>\n",
       "      <th>count</th>\n",
       "      <td>8345.000000</td>\n",
       "    </tr>\n",
       "    <tr>\n",
       "      <th>mean</th>\n",
       "      <td>1214.691552</td>\n",
       "    </tr>\n",
       "    <tr>\n",
       "      <th>std</th>\n",
       "      <td>3433.799104</td>\n",
       "    </tr>\n",
       "    <tr>\n",
       "      <th>min</th>\n",
       "      <td>-8603.000000</td>\n",
       "    </tr>\n",
       "    <tr>\n",
       "      <th>25%</th>\n",
       "      <td>-922.000000</td>\n",
       "    </tr>\n",
       "    <tr>\n",
       "      <th>50%</th>\n",
       "      <td>668.000000</td>\n",
       "    </tr>\n",
       "    <tr>\n",
       "      <th>75%</th>\n",
       "      <td>3325.000000</td>\n",
       "    </tr>\n",
       "    <tr>\n",
       "      <th>max</th>\n",
       "      <td>9999.000000</td>\n",
       "    </tr>\n",
       "  </tbody>\n",
       "</table>\n",
       "</div>"
      ],
      "text/plain": [
       "        difference\n",
       "count  8345.000000\n",
       "mean   1214.691552\n",
       "std    3433.799104\n",
       "min   -8603.000000\n",
       "25%    -922.000000\n",
       "50%     668.000000\n",
       "75%    3325.000000\n",
       "max    9999.000000"
      ]
     },
     "execution_count": 12,
     "metadata": {},
     "output_type": "execute_result"
    }
   ],
   "source": [
    "# Have descriptive stats to have another viewpoint on the data\n",
    "df_lessOut.describe()"
   ]
  },
  {
   "cell_type": "code",
   "execution_count": 13,
   "metadata": {},
   "outputs": [
    {
     "name": "stdout",
     "output_type": "stream",
     "text": [
      "248\n"
     ]
    }
   ],
   "source": [
    "print(len(outList))"
   ]
  },
  {
   "cell_type": "code",
   "execution_count": 14,
   "metadata": {},
   "outputs": [
    {
     "name": "stdout",
     "output_type": "stream",
     "text": [
      "5\n"
     ]
    }
   ],
   "source": [
    "print(len(noDiffList))"
   ]
  },
  {
   "cell_type": "code",
   "execution_count": 15,
   "metadata": {},
   "outputs": [
    {
     "name": "stdout",
     "output_type": "stream",
     "text": [
      "Gender Difference Example: 'he' is more popular relative to 'she' on Reddit versus general English by 48 ranks\n"
     ]
    }
   ],
   "source": [
    "# Check differences in gender specific language\n",
    "heR  = df_reddit[df_reddit['word'] == \"he\"].index[0]\n",
    "heN  = df_normal[df_normal['word'] == \"he\"].index[0]\n",
    "sheR = df_reddit[df_reddit['word'] == \"she\"].index[0]\n",
    "sheN = df_normal[df_normal['word'] == \"she\"].index[0]\n",
    "\n",
    "# Get relative differences\n",
    "genR2 = heR - sheR\n",
    "genN2 = heN - sheN\n",
    "\n",
    "print('Gender Difference Example: \\'he\\' is more popular relative to \\'she\\' on Reddit versus general English by',genR2 - genN2,'ranks')"
   ]
  },
  {
   "cell_type": "code",
   "execution_count": 16,
   "metadata": {
    "collapsed": true
   },
   "outputs": [],
   "source": [
    "# Variables to continue with loop\n",
    "size = 10000\n",
    "redditS = []\n",
    "normalS = []\n",
    "\n",
    "# Loop to get the length of words in each list\n",
    "for i in range(size):\n",
    "    if type(df_reddit.iloc[i][0]) != type(1.0):\n",
    "        redditS.append(len(df_reddit.iloc[i][0]))\n",
    "        normalS.append(len(df_normal.iloc[i][0]))"
   ]
  },
  {
   "cell_type": "code",
   "execution_count": 17,
   "metadata": {
    "collapsed": true
   },
   "outputs": [],
   "source": [
    "# Put the lengths of words for both lists into a single dataframe\n",
    "wordLenRed = pd.DataFrame({'reddit': redditS, 'regular': normalS})"
   ]
  },
  {
   "cell_type": "code",
   "execution_count": 18,
   "metadata": {},
   "outputs": [
    {
     "data": {
      "image/png": "[encoded data removed]",
      "text/plain": [
       "<matplotlib.figure.Figure at 0x1b8966fa630>"
      ]
     },
     "metadata": {},
     "output_type": "display_data"
    }
   ],
   "source": [
    "# Density plot them to see their differences\n",
    "wordLenRed.plot.kde();"
   ]
  },
  {
   "cell_type": "markdown",
   "metadata": {},
   "source": [
    "For our second section, df_outside, we want to visualize unique words in an interesting way."
   ]
  },
  {
   "cell_type": "code",
   "execution_count": 19,
   "metadata": {},
   "outputs": [
    {
     "data": {
      "image/png": "[encoded data removed]",
      "text/plain": [
       "<matplotlib.figure.Figure at 0x1b896a38eb8>"
      ]
     },
     "metadata": {},
     "output_type": "display_data"
    }
   ],
   "source": [
    "# Look at the most frequent unique words in df_reddit\n",
    "df_peek = df_outside.head(10)\n",
    "df_peek.columns = ['word','Frequency']\n",
    "\n",
    "# Horizontal bar plot\n",
    "plot3 = df_peek.plot(kind='barh')\n",
    "plot3.set_yticklabels(df_peek.word);"
   ]
  },
  {
   "cell_type": "markdown",
   "metadata": {},
   "source": [
    "What are the top 15 words, without https and reddit? It's obvious that these two words would be the most popular unique phrases, because Reddit is the name of the website and https is the beginning of a copy-pasted link."
   ]
  },
  {
   "cell_type": "code",
   "execution_count": 20,
   "metadata": {},
   "outputs": [
    {
     "data": {
      "image/png": "[encoded data removed]",
      "text/plain": [
       "<matplotlib.figure.Figure at 0x1b8969f5828>"
      ]
     },
     "metadata": {},
     "output_type": "display_data"
    }
   ],
   "source": [
    "# Take first 17 words, and remove first 2\n",
    "df_peek2 = df_outside.head(17)\n",
    "df_peek2.columns = ['word','Frequency']\n",
    "\n",
    "df_peek2 = df_peek2[df_peek2['word'] != \"reddit\"]\n",
    "df_peek2 = df_peek2[df_peek2['word'] != \"https\"]\n",
    "plot4 = df_peek2.plot(kind='barh')\n",
    "plot4.set_yticklabels(df_peek2.word);"
   ]
  },
  {
   "cell_type": "markdown",
   "metadata": {},
   "source": [
    "## Data Analysis and Results"
   ]
  },
  {
   "cell_type": "code",
   "execution_count": 21,
   "metadata": {},
   "outputs": [
    {
     "data": {
      "image/png": "[encoded data removed]",
      "text/plain": [
       "<matplotlib.figure.Figure at 0x1b89662bb70>"
      ]
     },
     "execution_count": 21,
     "metadata": {},
     "output_type": "execute_result"
    }
   ],
   "source": [
    "plot1 # First histogram we printed"
   ]
  },
  {
   "cell_type": "code",
   "execution_count": 22,
   "metadata": {},
   "outputs": [
    {
     "data": {
      "text/html": [
       "<div>\n",
       "<style>\n",
       "    .dataframe thead tr:only-child th {\n",
       "        text-align: right;\n",
       "    }\n",
       "\n",
       "    .dataframe thead th {\n",
       "        text-align: left;\n",
       "    }\n",
       "\n",
       "    .dataframe tbody tr th {\n",
       "        vertical-align: top;\n",
       "    }\n",
       "</style>\n",
       "<table border=\"1\" class=\"dataframe\">\n",
       "  <thead>\n",
       "    <tr style=\"text-align: right;\">\n",
       "      <th></th>\n",
       "      <th>difference</th>\n",
       "    </tr>\n",
       "  </thead>\n",
       "  <tbody>\n",
       "    <tr>\n",
       "      <th>count</th>\n",
       "      <td>8345.000000</td>\n",
       "    </tr>\n",
       "    <tr>\n",
       "      <th>mean</th>\n",
       "      <td>1214.691552</td>\n",
       "    </tr>\n",
       "    <tr>\n",
       "      <th>std</th>\n",
       "      <td>3433.799104</td>\n",
       "    </tr>\n",
       "    <tr>\n",
       "      <th>min</th>\n",
       "      <td>-8603.000000</td>\n",
       "    </tr>\n",
       "    <tr>\n",
       "      <th>25%</th>\n",
       "      <td>-922.000000</td>\n",
       "    </tr>\n",
       "    <tr>\n",
       "      <th>50%</th>\n",
       "      <td>668.000000</td>\n",
       "    </tr>\n",
       "    <tr>\n",
       "      <th>75%</th>\n",
       "      <td>3325.000000</td>\n",
       "    </tr>\n",
       "    <tr>\n",
       "      <th>max</th>\n",
       "      <td>9999.000000</td>\n",
       "    </tr>\n",
       "  </tbody>\n",
       "</table>\n",
       "</div>"
      ],
      "text/plain": [
       "        difference\n",
       "count  8345.000000\n",
       "mean   1214.691552\n",
       "std    3433.799104\n",
       "min   -8603.000000\n",
       "25%    -922.000000\n",
       "50%     668.000000\n",
       "75%    3325.000000\n",
       "max    9999.000000"
      ]
     },
     "execution_count": 22,
     "metadata": {},
     "output_type": "execute_result"
    }
   ],
   "source": [
    "df_lessOut.describe() # The data describing plot1"
   ]
  },
  {
   "cell_type": "markdown",
   "metadata": {},
   "source": [
    "The histogram shows the difference in index of each word for their traditional ranks and their ranks on Reddit. The graph is normal with a strong skew to the right which can be attributed to comparing a list of 10,000 to a list of 50,000. The top of the curve is at the bin covering zero so we know for the most part, word's ranks don't stray too far from each other. The mean is at 1200 ranks higher on Reddit on average for words but the median is 668 above, which also is attributed to having the skew towards the high thousands. Keep in mind these numbers are coming from differences of less than 10,000 to remove most of the outliers."
   ]
  },
  {
   "cell_type": "code",
   "execution_count": 23,
   "metadata": {},
   "outputs": [
    {
     "data": {
      "image/png": "[encoded data removed]",
      "text/plain": [
       "<matplotlib.figure.Figure at 0x1b896445198>"
      ]
     },
     "metadata": {},
     "output_type": "display_data"
    }
   ],
   "source": [
    "wordLenRed.plot.kde(); # The second visualization we made"
   ]
  },
  {
   "cell_type": "markdown",
   "metadata": {},
   "source": [
    "Furthermore, some other interesting observations were made in the process of comparing the two data sets. For example, only 5 words have a difference of 0, and 2 of those were in the top 10 words. That means that there is a continuous bias of word usage on Reddit. Also, there were 248 words from the general English list that didn't even show up on the top 50,000 words on Reddit. I would assume that the reason for this discrepancy comes from the audience of Reddit. Considering Reddit comments are rated by other users, users are encouraged to use more widely known language to appeal to a larger base, whereas the Google Corpus list takes info from books which may have a bias towards more intellectual audiences. As shown by the density plots showing the length of words from the two sources side by side, reddit's word's tend to be shorter on average, agreeing with the aforementioned affect the audience has. \n",
    "\n",
    "As for gender specific differences, it is hard to measure how 'young' and 'male' affects the data because it would interject many of our own biases, however as an overarching view on it, we found that 'he' is more popular than 'she' on Reddit which provides evidence to back up the claim of that part of Reddit's demographic."
   ]
  },
  {
   "cell_type": "code",
   "execution_count": 24,
   "metadata": {},
   "outputs": [
    {
     "data": {
      "image/png": "[encoded data removed]",
      "text/plain": [
       "<matplotlib.figure.Figure at 0x1b896ca97b8>"
      ]
     },
     "metadata": {},
     "output_type": "display_data"
    }
   ],
   "source": [
    "plot4 = df_peek2.plot(kind='barh')\n",
    "plot4.set_yticklabels(df_peek2.word); # The fourth visualization we made"
   ]
  },
  {
   "cell_type": "markdown",
   "metadata": {},
   "source": [
    "For this visualization, we explored the top 15 words in df_reddit that are not in df_normal. We expected these words to be highly specific to the vocabulary of Redditors, which ended up being correct. In this visualization, we took out the top 2, which was \"reddit\" and \"https\". We did this because \"reddit\" lacked significance; of course \"reddit\" would be the most used word on a website called \"Reddit\". In addition, \"https\" is the beginning of a link, which also lacks significance in terms of word usage.\n",
    "\n",
    "As a result, we see some interesting results. There are technologically relevant words, such as \"youtube\", \"imgur\", and \"twitter\" which are websites; \"subreddit\", \"bot\" which are reddit-specific terms; \"png\" which is a graphical file extension. In addition, there is the acronym \"imo\" (In my opinion), \"haha\", and \"honestly\", which may indicate an expression of opinion. There are also some words with heavier connotations, such as \"racist\", \"bullshit\", and \"shitty\". Finally, there's also an incredibly controversial term (which results in more mentions), \"trump\"."
   ]
  },
  {
   "cell_type": "markdown",
   "metadata": {},
   "source": [
    "## Conclusions and Discussion\n",
    "\n",
    "Given that [54% of Redditors](https://reddit.zendesk.com/hc/en-us/articles/205183225-Audience-and-Demographics) are from the United States, and that English is the primary language on Reddit, we hypothesize that Reddit word usage is rather similar to US English word usage.\n",
    "Given an [informal survey](http://imgur.com/gallery/cPzlB) of the Reddit demographic, we hypothesize that differences in word usage can be attributed to the predominantly younger male demographic.\n",
    "\n",
    "Our hypothesis stated that Reddit word usage is rather similar to US English word usage. Considering the size differences of the list, seeing the frequency of words that have such a small difference in ranks, it agrees with our hypothesis that Reddit's dominant US demographic has words aligned with general US word usage. In comparing our two data sets, we saw that words near the top (more frequently appearing words) have fewer discrepancies between the two data sets in terms of word frequency. This further pushes us to believe that our original hypothesis was on the right track. This may be expected, considering that the primary language of Reddit is English, and the primary language of the US is English.\n",
    "\n",
    "We believed that differences in word usage can be attributed to the predominantly younger male demographic. However, we found that it is a lot harder to measure how the demographic of Reddit affects the data than we originally believed. We ended up being unable to pursue this line of thought in our analyses, as we realized we needed more data. To connect to demographic statistics, we needed a data set that would connect US demographics and common word usage; however, we were unable to find any reliable sources. Therefore, we were __unable__ to prove this part of our hypothesis.\n",
    "\n",
    "This analysis is based purely off of word frequency. Further examination and research may lead to more interesting findings.  For example, certain words may be used in different contexts, but that data does not show up in analysis of word frequency. Based off of pure data, we don't know whether or not ambiguous words like 'wish' are used as verbs or nouns. Another interesting find is that Redditors tend to be very lazy in correct grammar. We found that they tend not to use apostrophes for whatever reason so that might bump words like 'its' much higher than its actual intended frequency. These findings are interesting and aren't found directly through word frequencies. Doing analysis based solely off of word frequency gives us very concrete results, but doesn't necessarily tell the entire story of word usage within Reddit and the US."
   ]
  }
 ],
 "metadata": {
  "kernelspec": {
   "display_name": "Python 2",
   "language": "python",
   "name": "python2"
  },
  "language_info": {
   "codemirror_mode": {
    "name": "ipython",
    "version": 2
   },
   "file_extension": ".py",
   "mimetype": "text/x-python",
   "name": "python",
   "nbconvert_exporter": "python",
   "pygments_lexer": "ipython2",
   "version": "2.7.13"
  }
 },
 "nbformat": 4,
 "nbformat_minor": 2
}
